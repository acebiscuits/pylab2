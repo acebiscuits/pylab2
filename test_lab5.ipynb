{
 "cells": [
  {
   "cell_type": "code",
   "execution_count": null,
   "metadata": {},
   "outputs": [],
   "source": [
    "import torch\n",
    "import numpy as np\n",
    "import os\n",
    "from typing import Tuple, Any\n",
    "\n",
    "import cv2\n",
    "import pandas as pd\n",
    "import torchvision\n",
    "from torch.utils.data import Dataset\n",
    "from torchvision import datasets\n",
    "from torchvision.transforms import ToTensor\n",
    "import matplotlib.pyplot as plt\n"
   ]
  },
  {
   "cell_type": "code",
   "execution_count": null,
   "metadata": {},
   "outputs": [],
   "source": [
    "class CustomImageDataset(Dataset):\n",
    "  def __init__(self, path_to_annotation_file: str, transform: Any=None, target_transform: Any=None) -> None:\n",
    "    self.path_to_annotation_file = path_to_annotation_file\n",
    "    self.dataset_info = pd.read_csv(path_to_annotation_file, header=None)\n",
    "    self.dataset_info.drop(self.dataset_info.columns[[0]], axis = 1, inplace=True)\n",
    "    self.dataset_info.drop(index = 0, axis = 0, inplace =True)\n",
    "    self.transform = transform\n",
    "    self.target_transform = target_transform\n",
    "\n",
    "  def __len__(self) -> int:\n",
    "    return len(self.dataset_info)\n",
    "\n",
    "  def __getitem__(self, index: int) -> Tuple[torch.tensor, int]:\n",
    "    path_to_image = self.dataset_info.iloc[index, 0]\n",
    "    image = cv2.cvtColor(cv2.imread(path_to_image), cv2.COLOR_BGR2RGB)\n",
    "    label = self.dataset_info.iloc[index, 1]\n",
    "\n",
    "    if self.transform:\n",
    "      image = self.transform(image)\n",
    "    if self.target_transform:\n",
    "      label = self.target_Transform(label)\n",
    "      \n",
    "    return image, label"
   ]
  },
  {
   "cell_type": "code",
   "execution_count": null,
   "metadata": {},
   "outputs": [],
   "source": [
    "df = pd.read_csv(\"annotation_2.csv\")\n",
    "\n",
    "df.drop(columns=['Абсолютный путь'], inplace=True)\n",
    "df.rename(columns={'Относительный путь': 'path_to_image', 'Класс': 'class' }, inplace=True)\n",
    "new_df = df.reindex(columns = ['class', 'path_to_image'])\n",
    "new_df['label'] = 0\n",
    "new_df.loc[new_df['class'] == 'leopard', 'label'] = 1\n",
    "new_df1 = new_df[['path_to_image', 'label']]\n",
    "new_df1['path_to_image'] = new_df1['path_to_image'].replace([r'data_new\\\\dataset\\\\'], ['/content/drive/MyDrive/dataset/'], regex=True)\n",
    "new_df1.to_csv('annotation_2_test.csv')\n",
    "#new_df1['path_to_image'] = new_df1['path_to_image'].replace(['dataset'], [''], regex=True)new_df1\n",
    "\n",
    "#print('/content/drive/MyDrive/dataset' + str(df['path_to_image']).split('\\\\')[2])\n",
    "#df['path_to_image'] = '/content/drive/MyDrive/dataset' + str(df['path_to_image']).split('\\\\')[2]\n",
    "new_df1\n"
   ]
  },
  {
   "cell_type": "code",
   "execution_count": null,
   "metadata": {},
   "outputs": [],
   "source": [
    "path_to_dataset = r\"/content/drive/MyDrive/dataset\"\n",
    "path_to_dataset\n"
   ]
  },
  {
   "cell_type": "code",
   "execution_count": null,
   "metadata": {},
   "outputs": [],
   "source": [
    "df = pd.read_csv(os.path.join(path_to_dataset, \"annotation_2_test.csv\"), header=None, names=['path_to_image', 'label'])\n",
    "df"
   ]
  },
  {
   "cell_type": "code",
   "execution_count": null,
   "metadata": {},
   "outputs": [],
   "source": [
    "custom_transforms = torchvision.transforms.Compose([torchvision.transforms.ToTensor(),\n",
    "                                                    torchvision.transforms.Resize((224, 224)), \n",
    "                                                    torchvision.transforms.Normalize((0.485, 0.456, 0.406), (0.229, 0.224, 0.225))])"
   ]
  },
  {
   "cell_type": "code",
   "execution_count": null,
   "metadata": {},
   "outputs": [],
   "source": [
    "tensor = torch.tensor([[1, 2], [3, 4]])\n",
    "\n",
    "if torch.cuda.is_available():\n",
    "  tensor = tensor.to(\"cuda:0\")\n",
    "\n",
    "print(tensor)"
   ]
  },
  {
   "cell_type": "code",
   "execution_count": null,
   "metadata": {},
   "outputs": [],
   "source": [
    "custom_dataset = CustomImageDataset(os.path.join(path_to_dataset, \"annotation_2_test.csv\"), custom_transforms)\n",
    "custom_dataset.dataset_info"
   ]
  },
  {
   "cell_type": "code",
   "execution_count": null,
   "metadata": {},
   "outputs": [],
   "source": [
    "len(custom_dataset), custom_dataset[0][0].shape, custom_dataset[0][0].max(), custom_dataset[0][0].min()"
   ]
  },
  {
   "cell_type": "code",
   "execution_count": null,
   "metadata": {},
   "outputs": [],
   "source": [
    "plt.figure(figsize=(10, 5))\n",
    "plt.subplot(1, 2, 1)\n",
    "plt.title(\"tiger\" if custom_dataset[10][1] == '0' else \"leopard\")\n",
    "plt.imshow(custom_dataset[10][0].permute(1, 2, 0).numpy()[:, :, ::-1])\n",
    "plt.subplot(1, 2, 2)\n",
    "plt.title(\"tiger\" if custom_dataset[1000][1] == '0' else \"leopard\")\n",
    "plt.imshow(custom_dataset[1000][0].permute(1, 2, 0).numpy()[:, :, ::-1])"
   ]
  },
  {
   "cell_type": "code",
   "execution_count": null,
   "metadata": {},
   "outputs": [],
   "source": [
    "from torch.utils.data import DataLoader"
   ]
  },
  {
   "cell_type": "code",
   "execution_count": null,
   "metadata": {},
   "outputs": [],
   "source": [
    "dataloader = DataLoader(custom_dataset, batch_size=4, shuffle=True)"
   ]
  },
  {
   "cell_type": "code",
   "execution_count": null,
   "metadata": {},
   "outputs": [],
   "source": [
    "plt.figure(figsize=(10, 5))\n",
    "\n",
    "for i_batch, sample_batched in enumerate(dataloader):\n",
    "    if i_batch == 1:\n",
    "      break\n",
    "      \n",
    "    print(i_batch, sample_batched[0].shape)\n",
    "\n",
    "    for j in range(4):\n",
    "      plt.subplot(1, 4, j + 1)\n",
    "      plt.title(\"tiger\" if sample_batched[1][j] == '0' else \"leopard\")\n",
    "      plt.imshow(sample_batched[0][j].permute(1, 2, 0).numpy()[:, :, ::-1])"
   ]
  },
  {
   "cell_type": "code",
   "execution_count": null,
   "metadata": {},
   "outputs": [],
   "source": [
    "import os\n",
    "import torch\n",
    "from torch import nn\n",
    "from torch.utils.data import DataLoader\n",
    "from torchvision import datasets, transforms"
   ]
  },
  {
   "cell_type": "code",
   "execution_count": null,
   "metadata": {},
   "outputs": [],
   "source": [
    "class CNN(nn.Module):\n",
    "    def __init__(self) -> None:\n",
    "        super(CNN, self).__init__()\n",
    "        \n",
    "        self.conv_1 = nn.Conv2d(3, 16, kernel_size=3, padding=0, stride=2)\n",
    "        self.conv_2 = nn.Conv2d(16, 32, kernel_size=3, padding=0, stride=2)\n",
    "        self.conv_3 = nn.Conv2d(32, 64, kernel_size=3, padding=0, stride=2)\n",
    "\n",
    "        self.relu = nn.ReLU()\n",
    "        self.dropout = nn.Dropout(0.1)\n",
    "        self.max_pool = nn.MaxPool2d(2)\n",
    "        \n",
    "        self.fc_1 = nn.Linear(576, 10) # 43264 - пока что определяем экспериментальным путем (:\n",
    "        self.fc_2 = nn.Linear(10, 1)\n",
    "        \n",
    "    def forward(self, x: torch.tensor) -> torch.tensor:\n",
    "        output = self.relu(self.conv_1(x))\n",
    "        output = self.max_pool(output)\n",
    "        output = self.relu(self.conv_2(output))\n",
    "        output = self.max_pool(output)\n",
    "        output = self.relu(self.conv_3(output))\n",
    "        output = self.max_pool(output)\n",
    "\n",
    "        # print(torch.nn.Flatten()(output).shape) - определить можно, распечатав вот это\n",
    "\n",
    "        output = torch.nn.Flatten()(output)\n",
    "        output = self.relu(self.fc_1(output))\n",
    "        output = torch.nn.Sigmoid()(self.fc_2(output))\n",
    "        return output"
   ]
  },
  {
   "cell_type": "code",
   "execution_count": null,
   "metadata": {},
   "outputs": [],
   "source": [
    "import matplotlib.pyplot as plt\n",
    "import numpy as np\n",
    "import torch.optim as optim\n",
    "import random"
   ]
  },
  {
   "cell_type": "code",
   "execution_count": null,
   "metadata": {},
   "outputs": [],
   "source": [
    "numbeer = list(range(1886))\n",
    "random.shuffle(numbeer)\n",
    "numbeer[:10]"
   ]
  },
  {
   "cell_type": "code",
   "execution_count": null,
   "metadata": {},
   "outputs": [],
   "source": [
    "df = pd.read_csv(os.path.join(path_to_dataset, 'annotation_2_test.csv'))\n",
    "\n"
   ]
  },
  {
   "cell_type": "code",
   "execution_count": null,
   "metadata": {},
   "outputs": [],
   "source": [
    "dataset_train = df.iloc[numbeer[:1408]]\n",
    "dataset_train.drop(dataset_train.columns[[0]],axis =1, inplace=True)\n",
    "dataset_test = df.iloc[numbeer[1486:1686]]\n",
    "dataset_test.drop(dataset_test.columns[[0]],axis =1, inplace=True)\n",
    "dataset_valid = df.iloc[numbeer[1686:]]\n",
    "dataset_valid.drop(dataset_valid.columns[[0]],axis =1, inplace=True)"
   ]
  },
  {
   "cell_type": "code",
   "execution_count": null,
   "metadata": {},
   "outputs": [],
   "source": [
    "dataset_train.to_csv('annotation_train.csv')"
   ]
  },
  {
   "cell_type": "code",
   "execution_count": null,
   "metadata": {},
   "outputs": [],
   "source": [
    "dataset_train.to_csv('annotation_train.csv')\n",
    "dataset_test.to_csv('annotation_test.csv')\n",
    "dataset_valid.to_csv('annotation_valid.csv')"
   ]
  },
  {
   "cell_type": "code",
   "execution_count": null,
   "metadata": {},
   "outputs": [],
   "source": [
    "dataset_valid"
   ]
  },
  {
   "cell_type": "code",
   "execution_count": null,
   "metadata": {},
   "outputs": [],
   "source": [
    "dataset_valid.to_csv('annotation_valid_1.csv')"
   ]
  },
  {
   "cell_type": "code",
   "execution_count": null,
   "metadata": {},
   "outputs": [],
   "source": [
    "path_to_dataset = r\"/content/drive/MyDrive/dataset\"\n",
    "path_to_train_annotation = os.path.join(path_to_dataset, \"annotation_train.csv\")\n",
    "path_to_test_annotation = os.path.join(path_to_dataset, \"annotation_test.csv\")\n",
    "path_to_valid_annotation = os.path.join(path_to_dataset, \"annotation_valid_1.csv\")\n",
    "device = torch.device(\"cuda:0\") if torch.cuda.is_available() else torch.device(\"cpu\")\n",
    "model = CNN().to(device)"
   ]
  },
  {
   "cell_type": "code",
   "execution_count": null,
   "metadata": {},
   "outputs": [],
   "source": [
    "df = pd.read_csv(os.path.join(path_to_dataset, 'annotation_train.csv'))\n",
    "df"
   ]
  },
  {
   "cell_type": "code",
   "execution_count": null,
   "metadata": {},
   "outputs": [],
   "source": [
    "torch.cuda.is_available()"
   ]
  },
  {
   "cell_type": "code",
   "execution_count": null,
   "metadata": {},
   "outputs": [],
   "source": [
    "custom_transforms = torchvision.transforms.Compose([torchvision.transforms.ToTensor(),\n",
    "                                                    torchvision.transforms.Resize((224, 224)), \n",
    "                                                    torchvision.transforms.Normalize((0.485, 0.456, 0.406), (0.229, 0.224, 0.225))])"
   ]
  },
  {
   "cell_type": "code",
   "execution_count": null,
   "metadata": {},
   "outputs": [],
   "source": [
    "train_dataset = CustomImageDataset(path_to_train_annotation, custom_transforms)\n",
    "test_dataset = CustomImageDataset(path_to_test_annotation, custom_transforms)\n",
    "valid_dataset = CustomImageDataset(path_to_valid_annotation, custom_transforms)\n",
    "print(type(train_dataset), len(test_dataset), len(valid_dataset))"
   ]
  },
  {
   "cell_type": "code",
   "execution_count": null,
   "metadata": {},
   "outputs": [],
   "source": [
    "import random\n",
    "plt.figure(figsize=(10, 5))\n",
    "\n",
    "for j in range(6):\n",
    "  index = random.randint(0, 1472)\n",
    "  plt.subplot(1, 6, j + 1)\n",
    "  plt.title(\"tiger\" if train_dataset[index][1] == '0' else \"leopard\")\n",
    "  plt.imshow(train_dataset[index][0].permute(1, 2, 0).numpy()[:, :, ::-1])"
   ]
  },
  {
   "cell_type": "code",
   "execution_count": null,
   "metadata": {},
   "outputs": [],
   "source": [
    "import random\n",
    "plt.figure(figsize=(10, 5))\n",
    "\n",
    "for j in range(6):\n",
    "  index = random.randint(0, 200)\n",
    "  plt.subplot(1, 6, j + 1)\n",
    "  plt.title(\"tiger\" if test_dataset[index][1] == '0' else \"leopard\")\n",
    "  plt.imshow(test_dataset[index][0].permute(1, 2, 0).numpy()[:, :, ::-1])"
   ]
  },
  {
   "cell_type": "code",
   "execution_count": null,
   "metadata": {},
   "outputs": [],
   "source": [
    "import random\n",
    "plt.figure(figsize=(10, 5))\n",
    "\n",
    "for j in range(6):\n",
    "  index = random.randint(0, 200)\n",
    "  print(test_dataset[index][1])\n",
    "  plt.subplot(1, 6, j + 1)\n",
    "  plt.title(\"tiger\" if valid_dataset[index][1] == '0' else \"leopard\")\n",
    "  plt.imshow(valid_dataset[index][0].permute(1, 2, 0).numpy()[:, :, ::-1])"
   ]
  },
  {
   "cell_type": "code",
   "execution_count": null,
   "metadata": {},
   "outputs": [],
   "source": [
    "train_dataloader = DataLoader(train_dataset, batch_size=4, shuffle=True)\n",
    "test_dataloader = DataLoader(test_dataset, batch_size=4, shuffle=False)\n",
    "valid_dataloader = DataLoader(valid_dataset, batch_size=4, shuffle=False)"
   ]
  },
  {
   "cell_type": "code",
   "execution_count": null,
   "metadata": {},
   "outputs": [],
   "source": [
    "type(train_dataloader)"
   ]
  },
  {
   "cell_type": "code",
   "execution_count": null,
   "metadata": {},
   "outputs": [],
   "source": [
    "optimizer = optim.Adam(params=model.parameters(), lr=0.001)\n",
    "criterion = nn.BCELoss()"
   ]
  },
  {
   "cell_type": "code",
   "execution_count": null,
   "metadata": {},
   "outputs": [],
   "source": [
    "epochs = 20\n",
    "\n",
    "model.train()\n",
    "\n",
    "accuracy_values = []\n",
    "loss_values = []\n",
    "\n",
    "for epoch in range(epochs):\n",
    "\n",
    "    epoch_loss = 0\n",
    "    epoch_accuracy = 0\n",
    "    i = 0\n",
    "    for data, label in train_dataloader:\n",
    "        i+=1\n",
    "        print(i)\n",
    "        data = data.to(device)\n",
    "\n",
    "\n",
    "\n",
    "\n",
    "\n",
    "\n",
    "\n",
    "\n",
    "\n",
    "        label = torch.tensor(list(int(x) for x in label))\n",
    "        label = label.to(device)\n",
    "        \n",
    "        \n",
    "        output = model(data)\n",
    "        loss = criterion(output, label.unsqueeze(dim=1).to(torch.float))\n",
    "        \n",
    "        optimizer.zero_grad()\n",
    "        loss.backward()\n",
    "        optimizer.step()\n",
    "        \n",
    "        acc = np.array(([1 if (1 if output[j][0].detach() >= 0.5 else 0) == int(label[j]) else 0 for j in range(4)])).mean()\n",
    "        epoch_accuracy += acc / len(train_dataloader)\n",
    "        epoch_loss += loss / len(train_dataloader)\n",
    "\n",
    "    accuracy_values.append(epoch_accuracy)\n",
    "    loss_values.append(epoch_loss)\n",
    "        \n",
    "    print('Epoch : {}, train accuracy : {}, train loss : {}'.format(epoch + 1, epoch_accuracy, epoch_loss))"
   ]
  },
  {
   "cell_type": "code",
   "execution_count": null,
   "metadata": {},
   "outputs": [],
   "source": [
    "plt.figure(figsize=(15, 5))\n",
    "plt.plot(range(20), accuracy_values, color=\"green\")\n",
    "plt.plot(range(20), [float(value.detach()) for value in loss_values], color=\"blue\")\n",
    "plt.legend([\"Accuracy\", \"Loss\"])"
   ]
  },
  {
   "cell_type": "code",
   "execution_count": null,
   "metadata": {},
   "outputs": [],
   "source": [
    "model.eval()\n",
    "\n",
    "test_loss = 0\n",
    "test_accuracy = 0\n",
    "    \n",
    "for data, label in test_dataloader:\n",
    "    data = data.to(device)\n",
    "\n",
    "    label = torch.tensor(list(int(x) for x in label))\n",
    "    label = label.to(device)\n",
    "\n",
    "    output = model(data)\n",
    "    \n",
    "    acc = np.array(([1 if (1 if output[j][0].detach() >= 0.5 else 0) == int(label[j]) else 0 for j in range(4)])).mean()\n",
    "    test_accuracy += acc / len(test_dataloader)\n",
    "    test_loss += float(loss.detach()) / len(test_dataloader)\n"
   ]
  },
  {
   "cell_type": "code",
   "execution_count": null,
   "metadata": {},
   "outputs": [],
   "source": [
    "test_accuracy, test_loss"
   ]
  },
  {
   "cell_type": "code",
   "execution_count": null,
   "metadata": {},
   "outputs": [],
   "source": [
    "torch.save(model.state_dict(), (\"weight.pt\"))"
   ]
  },
  {
   "cell_type": "code",
   "execution_count": null,
   "metadata": {},
   "outputs": [],
   "source": [
    "import random\n",
    "plt.figure(figsize=(10, 5))\n",
    "\n",
    "for j in range(2):\n",
    "  index = random.randint(0, 200)\n",
    "  plt.subplot(1, 2, j + 1)\n",
    "  plt.title(\"tiger\" if (1 if  model(test_dataset[index][0].unsqueeze(dim=0))[0] >= 0.5 else 0) == 0 else \"leopard\")\n",
    "  plt.imshow(test_dataset[index][0].permute(1, 2, 0).numpy()[:, :, ::-1])"
   ]
  },
  {
   "cell_type": "code",
   "execution_count": null,
   "metadata": {},
   "outputs": [],
   "source": [
    "model_2 = CNN().to(device)\n",
    "train_dataloader = DataLoader(train_dataset, batch_size=4, shuffle=True)\n",
    "test_dataloader = DataLoader(test_dataset, batch_size=4, shuffle=False)\n",
    "valid_dataloader = DataLoader(valid_dataset, batch_size=4, shuffle=False)\n",
    "optimizer = optim.Adam(params=model_2.parameters(), lr=0.2)\n",
    "criterion = nn.BCELoss()"
   ]
  },
  {
   "cell_type": "code",
   "execution_count": null,
   "metadata": {},
   "outputs": [],
   "source": [
    "epochs = 20\n",
    "\n",
    "model_2.train()\n",
    "\n",
    "accuracy_values = []\n",
    "loss_values = []\n",
    "\n",
    "for epoch in range(epochs):\n",
    "\n",
    "    epoch_loss = 0\n",
    "    epoch_accuracy = 0\n",
    "    i = 0\n",
    "    for data, label in train_dataloader:\n",
    "        i+=1\n",
    "        print(i)\n",
    "        data = data.to(device)\n",
    "\n",
    "\n",
    "\n",
    "\n",
    "\n",
    "\n",
    "\n",
    "\n",
    "\n",
    "        label = torch.tensor(list(int(x) for x in label))\n",
    "        label = label.to(device)\n",
    "        \n",
    "        \n",
    "        output = model_2(data)\n",
    "        loss = criterion(output, label.unsqueeze(dim=1).to(torch.float))\n",
    "        \n",
    "        optimizer.zero_grad()\n",
    "        loss.backward()\n",
    "        optimizer.step()\n",
    "        \n",
    "        acc = np.array(([1 if (1 if output[j][0].detach() >= 0.5 else 0) == int(label[j]) else 0 for j in range(4)])).mean()\n",
    "        epoch_accuracy += acc / len(train_dataloader)\n",
    "        epoch_loss += loss / len(train_dataloader)\n",
    "\n",
    "    accuracy_values.append(epoch_accuracy)\n",
    "    loss_values.append(epoch_loss)\n",
    "        \n",
    "    print('Epoch : {}, train accuracy : {}, train loss : {}'.format(epoch + 1, epoch_accuracy, epoch_loss))"
   ]
  },
  {
   "cell_type": "code",
   "execution_count": null,
   "metadata": {},
   "outputs": [],
   "source": [
    "plt.figure(figsize=(15, 5))\n",
    "plt.plot(range(20), accuracy_values, color=\"green\")\n",
    "plt.plot(range(20), [float(value.detach()) for value in loss_values], color=\"blue\")\n",
    "plt.legend([\"Accuracy\", \"Loss\"])"
   ]
  },
  {
   "cell_type": "code",
   "execution_count": null,
   "metadata": {},
   "outputs": [],
   "source": [
    "model.eval()\n",
    "\n",
    "test_loss = 0\n",
    "test_accuracy = 0\n",
    "    \n",
    "for data, label in test_dataloader:\n",
    "    data = data.to(device)\n",
    "\n",
    "    label = torch.tensor(list(int(x) for x in label))\n",
    "    label = label.to(device)\n",
    "\n",
    "    output = model_2(data)\n",
    "    \n",
    "    acc = np.array(([1 if (1 if output[j][0].detach() >= 0.5 else 0) == int(label[j]) else 0 for j in range(4)])).mean()\n",
    "    test_accuracy += acc / len(test_dataloader)\n",
    "    test_loss += float(loss.detach()) / len(test_dataloader)"
   ]
  },
  {
   "cell_type": "code",
   "execution_count": null,
   "metadata": {},
   "outputs": [],
   "source": [
    "test_accuracy, test_loss"
   ]
  },
  {
   "cell_type": "code",
   "execution_count": null,
   "metadata": {},
   "outputs": [],
   "source": [
    "torch.save(model.state_dict(), (\"weight_02_4.pt\"))"
   ]
  },
  {
   "cell_type": "code",
   "execution_count": null,
   "metadata": {},
   "outputs": [],
   "source": [
    "import random\n",
    "plt.figure(figsize=(10, 5))\n",
    "\n",
    "for j in range(2):\n",
    "  index = random.randint(0, 200)\n",
    "  plt.subplot(1, 2, j + 1)\n",
    "  plt.title(\"tiger\" if (1 if  model_2(test_dataset[index][0].unsqueeze(dim=0))[0] >= 0.5 else 0) == 0 else \"leopard\")\n",
    "  plt.imshow(test_dataset[index][0].permute(1, 2, 0).numpy()[:, :, ::-1])"
   ]
  },
  {
   "cell_type": "code",
   "execution_count": null,
   "metadata": {},
   "outputs": [],
   "source": [
    "model_3 = CNN().to(device)\n",
    "train_dataloader = DataLoader(train_dataset, batch_size=8, shuffle=True)\n",
    "test_dataloader = DataLoader(test_dataset, batch_size=8, shuffle=False)\n",
    "valid_dataloader = DataLoader(valid_dataset, batch_size=8, shuffle=False)\n",
    "optimizer = optim.Adam(params=model_3.parameters(), lr=0.001)\n",
    "criterion = nn.BCELoss()"
   ]
  },
  {
   "cell_type": "code",
   "execution_count": null,
   "metadata": {},
   "outputs": [],
   "source": [
    "epochs = 20\n",
    "\n",
    "model_3.train()\n",
    "\n",
    "accuracy_values = []\n",
    "loss_values = []\n",
    "\n",
    "for epoch in range(epochs):\n",
    "\n",
    "    epoch_loss = 0\n",
    "    epoch_accuracy = 0\n",
    "    i = 0\n",
    "    for data, label in train_dataloader:\n",
    "        i+=1\n",
    "        print(i)\n",
    "        data = data.to(device)\n",
    "\n",
    "\n",
    "\n",
    "\n",
    "        label = torch.tensor(list(int(x) for x in label))\n",
    "        label = label.to(device)\n",
    "        \n",
    "        \n",
    "        output = model_3(data)\n",
    "        loss = criterion(output, label.unsqueeze(dim=1).to(torch.float))\n",
    "        \n",
    "        optimizer.zero_grad()\n",
    "        loss.backward()\n",
    "        optimizer.step()\n",
    "        \n",
    "        acc = np.array(([1 if (1 if output[j][0].detach() >= 0.5 else 0) == int(label[j]) else 0 for j in range(4)])).mean()\n",
    "        epoch_accuracy += acc / len(train_dataloader)\n",
    "        epoch_loss += loss / len(train_dataloader)\n",
    "\n",
    "    accuracy_values.append(epoch_accuracy)\n",
    "    loss_values.append(epoch_loss)\n",
    "        \n",
    "    print('Epoch : {}, train accuracy : {}, train loss : {}'.format(epoch + 1, epoch_accuracy, epoch_loss))"
   ]
  },
  {
   "cell_type": "code",
   "execution_count": null,
   "metadata": {},
   "outputs": [],
   "source": [
    "plt.figure(figsize=(15, 5))\n",
    "plt.plot(range(20), accuracy_values, color=\"green\")\n",
    "plt.plot(range(20), [float(value.detach()) for value in loss_values], color=\"blue\")\n",
    "plt.legend([\"Accuracy\", \"Loss\"])"
   ]
  },
  {
   "cell_type": "code",
   "execution_count": null,
   "metadata": {},
   "outputs": [],
   "source": [
    "model.eval()\n",
    "\n",
    "test_loss = 0\n",
    "test_accuracy = 0\n",
    "    \n",
    "for data, label in test_dataloader:\n",
    "    data = data.to(device)\n",
    "\n",
    "    label = torch.tensor(list(int(x) for x in label))\n",
    "    label = label.to(device)\n",
    "\n",
    "    output = model_3(data)\n",
    "    \n",
    "    acc = np.array(([1 if (1 if output[j][0].detach() >= 0.5 else 0) == int(label[j]) else 0 for j in range(4)])).mean()\n",
    "    test_accuracy += acc / len(test_dataloader)\n",
    "    test_loss += float(loss.detach()) / len(test_dataloader)"
   ]
  },
  {
   "cell_type": "code",
   "execution_count": null,
   "metadata": {},
   "outputs": [],
   "source": [
    "test_accuracy, test_loss"
   ]
  },
  {
   "cell_type": "code",
   "execution_count": null,
   "metadata": {},
   "outputs": [],
   "source": [
    "torch.save(model_3.state_dict(), (\"weight_001_8.pt\"))"
   ]
  },
  {
   "cell_type": "code",
   "execution_count": null,
   "metadata": {},
   "outputs": [],
   "source": [
    "import random\n",
    "plt.figure(figsize=(10, 5))\n",
    "\n",
    "for j in range(2):\n",
    "  index = random.randint(0, 200)\n",
    "  plt.subplot(1, 2, j + 1)\n",
    "  plt.title(\"tiger\" if (1 if  model_3((test_dataset[index][0].to(device)).unsqueeze(dim=0))[0] >= 0.5 else 0) == 0 else \"leopard\")\n",
    "  plt.imshow(test_dataset[index][0].permute(1, 2, 0).numpy()[:, :, ::-1])"
   ]
  },
  {
   "cell_type": "code",
   "execution_count": null,
   "metadata": {},
   "outputs": [],
   "source": [
    "model_4 = CNN().to(device)\n",
    "train_dataloader = DataLoader(train_dataset, batch_size=4, shuffle=True)\n",
    "test_dataloader = DataLoader(test_dataset, batch_size=4, shuffle=False)\n",
    "valid_dataloader = DataLoader(valid_dataset, batch_size=4, shuffle=False)\n",
    "optimizer = optim.Adam(params=model_4.parameters(), lr=0.002)\n",
    "criterion = nn.BCELoss()"
   ]
  },
  {
   "cell_type": "code",
   "execution_count": null,
   "metadata": {},
   "outputs": [],
   "source": [
    "epochs = 20\n",
    "\n",
    "model_4.train()\n",
    "\n",
    "accuracy_values = []\n",
    "loss_values = []\n",
    "\n",
    "for epoch in range(epochs):\n",
    "\n",
    "    epoch_loss = 0\n",
    "    epoch_accuracy = 0\n",
    "    i = 0\n",
    "    for data, label in train_dataloader:\n",
    "        i+=1\n",
    "        print(i)\n",
    "        data = data.to(device)\n",
    "\n",
    "\n",
    "\n",
    "\n",
    "        label = torch.tensor(list(int(x) for x in label))\n",
    "        label = label.to(device)\n",
    "        \n",
    "        \n",
    "        output = model_4(data)\n",
    "        loss = criterion(output, label.unsqueeze(dim=1).to(torch.float))\n",
    "        \n",
    "        optimizer.zero_grad()\n",
    "        loss.backward()\n",
    "        optimizer.step()\n",
    "        \n",
    "        acc = np.array(([1 if (1 if output[j][0].detach() >= 0.5 else 0) == int(label[j]) else 0 for j in range(4)])).mean()\n",
    "        epoch_accuracy += acc / len(train_dataloader)\n",
    "        epoch_loss += loss / len(train_dataloader)\n",
    "\n",
    "    accuracy_values.append(epoch_accuracy)\n",
    "    loss_values.append(epoch_loss)\n",
    "        \n",
    "    print('Epoch : {}, train accuracy : {}, train loss : {}'.format(epoch + 1, epoch_accuracy, epoch_loss))"
   ]
  },
  {
   "cell_type": "code",
   "execution_count": null,
   "metadata": {},
   "outputs": [],
   "source": [
    "plt.figure(figsize=(15, 5))\n",
    "plt.plot(range(20), accuracy_values, color=\"green\")\n",
    "plt.plot(range(20), [float(value.detach()) for value in loss_values], color=\"blue\")\n",
    "plt.legend([\"Accuracy\", \"Loss\"])"
   ]
  },
  {
   "cell_type": "code",
   "execution_count": null,
   "metadata": {},
   "outputs": [],
   "source": [
    "model_4.eval()\n",
    "\n",
    "test_loss = 0\n",
    "test_accuracy = 0\n",
    "    \n",
    "for data, label in test_dataloader:\n",
    "    data = data.to(device)\n",
    "\n",
    "    label = torch.tensor(list(int(x) for x in label))\n",
    "    label = label.to(device)\n",
    "\n",
    "    output = model_4(data)\n",
    "    \n",
    "    acc = np.array(([1 if (1 if output[j][0].detach() >= 0.5 else 0) == int(label[j]) else 0 for j in range(4)])).mean()\n",
    "    test_accuracy += acc / len(test_dataloader)\n",
    "    test_loss += float(loss.detach()) / len(test_dataloader)"
   ]
  },
  {
   "cell_type": "code",
   "execution_count": null,
   "metadata": {},
   "outputs": [],
   "source": [
    "test_accuracy, test_loss"
   ]
  },
  {
   "cell_type": "code",
   "execution_count": null,
   "metadata": {},
   "outputs": [],
   "source": [
    "torch.save(model_4.state_dict(), (\"weight_002_4.pt\"))"
   ]
  },
  {
   "cell_type": "code",
   "execution_count": null,
   "metadata": {},
   "outputs": [],
   "source": [
    "import random\n",
    "plt.figure(figsize=(10, 5))\n",
    "\n",
    "for j in range(2):\n",
    "  index = random.randint(0, 200)\n",
    "  plt.subplot(1, 2, j + 1)\n",
    "  plt.title(\"tiger\" if (1 if  model_4((test_dataset[index][0].to(device)).unsqueeze(dim=0))[0] >= 0.5 else 0) == 0 else \"leopard\")\n",
    "  plt.imshow(test_dataset[index][0].permute(1, 2, 0).numpy()[:, :, ::-1])"
   ]
  }
 ],
 "metadata": {
  "language_info": {
   "name": "python"
  },
  "orig_nbformat": 4
 },
 "nbformat": 4,
 "nbformat_minor": 2
}
